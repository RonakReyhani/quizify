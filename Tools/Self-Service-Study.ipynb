{
  "cells": [
    {
      "attachments": {},
      "cell_type": "markdown",
      "metadata": {},
      "source": [
        "# quizify\n",
        "\n",
        "A self service study platform powered by Generative AI, using Hugging face Transformers.\n",
        "\n",
        "## Introduction\n",
        "\n",
        "The ` Self-Service Learning platform` is an innovative app designed to revolutionize your learning experience. With this powerful tool, users can effortlessly generate custom quizzes based on any PDF file they download from the web. Gone are the days of tedious manual summarization and translation! Our app leverages the cutting-edge capabilities of Hugging Face transformers to simplify the entire process. Once you've obtained a PDF, simply import it into the app and watch as the magic unfolds.\n",
        "\n",
        "This learning platform empowers you to summarize the document with ease, condensing its key points into a concise format. Not only that, but our app also offers built-in translation functionality, allowing you to understand the content in your preferred language. But the true power of our app lies in its ability to transform your summarized and translated document into an interactive question-answer service.\n",
        "\n",
        "By analyzing the text and extracting relevant information, the app generates thought-provoking questions that test your understanding of the material. Whether you're a student striving for academic excellence or a professional looking to enhance your knowledge, the Self Service Quiz Generator platform is your go-to tool for efficient and engaging learning."
      ]
    },
    {
      "attachments": {},
      "cell_type": "markdown",
      "metadata": {},
      "source": [
        "## Install the requirements"
      ]
    },
    {
      "cell_type": "code",
      "execution_count": 4,
      "metadata": {
        "id": "06tFd84gL2KN"
      },
      "outputs": [],
      "source": [
        "!pip3 install -r requirements.txt"
      ]
    },
    {
      "attachments": {},
      "cell_type": "markdown",
      "metadata": {},
      "source": [
        "## Login to hugging face"
      ]
    },
    {
      "cell_type": "code",
      "execution_count": 8,
      "metadata": {
        "colab": {
          "base_uri": "https://localhost:8080/",
          "height": 131,
          "referenced_widgets": [
            "4bca149090d24a688979c68474620a2c",
            "1104849b83e446ea81c53c49eb9be838",
            "1f0219369c6a42dcb9b220dfeb261f71",
            "b503df5545384f61abe3b6a08d94925b",
            "189748f901fb419bbad65281f0f61318",
            "1370f55933534c23967e1712bd4e1306",
            "cc434e89332b4dd2a7743ce1d7067bab",
            "a2882702ae784e5dad2472b42257f5c3",
            "5b424a4b72284db9a8473bce08b484f0",
            "57bfb349b5964696bc570e258485b2e5",
            "de25448c62624c9e94cb491454cef4c7",
            "dd9026d202d94767b06e04bf4879505f",
            "9d2a67747976401ca3bdbbde47083201",
            "5da4421d8bda4187aea8f5bf8cde595f",
            "92325432067049a48bcf64fb2901bc54",
            "8034fe92ac7e40e1bd8c63205adc649d",
            "32d2fc82d4a7477c980e04171e237157",
            "e2dd5559de5b4718a46e0f204cded820",
            "944be21cac0b426191913ef0a6275034",
            "75aa0f1913124133ab192adde4f6209c",
            "c399d2486883469aa31ae24758f87897",
            "0565cfe9114d4657a8cb22814a7dad9c",
            "13b79df27ea8404e89fc92cca6632057",
            "18f4e458858e4f7fabf45b84a14eb071",
            "d1dd7be4b4014cd9b8da8716341f3939",
            "a3c151ab9a8f48b8845f424f69cc3d0e",
            "86520775da9f456392033846562396fd",
            "ae302e42178a4a7e9536bfbc00111c6f",
            "420b3254992542d7a10264900a9c91ba"
          ]
        },
        "id": "P4SPw04cT9Y1",
        "outputId": "68aaf861-1426-43b1-86ca-a1655d272315"
      },
      "outputs": [
        {
          "name": "stdout",
          "output_type": "stream",
          "text": [
            "Token will not been saved to git credential helper. Pass `add_to_git_credential=True` if you want to set the git credential as well.\n",
            "Token is valid (permission: write).\n",
            "Your token has been saved to /Users/nadiareyhani/.cache/huggingface/token\n",
            "Login successful\n"
          ]
        }
      ],
      "source": [
        "\n",
        "from huggingface_hub import login\n",
        "################################## Security Risk! Replace your token but REMEMBER to remove it################\n",
        "token=\"ENTER_YOUR_TOKEN_HERE\"\n",
        "login(token)\n",
        "\n",
        "# alternatively you can use this widget:\n",
        "\n",
        "# from huggingface_hub import notebook_login\n",
        "# notebook_login()"
      ]
    },
    {
      "attachments": {},
      "cell_type": "markdown",
      "metadata": {},
      "source": [
        "### Set up Helper functions"
      ]
    },
    {
      "cell_type": "code",
      "execution_count": 7,
      "metadata": {},
      "outputs": [],
      "source": [
        "from docx import Document\n",
        "import IPython\n",
        "import soundfile as sf\n",
        "from transformers.tools.agents import PreTool\n",
        "\n",
        "def play_audio(audio):\n",
        "    sf.write(\"speech_converted.wav\", audio.numpy(), samplerate=16000)\n",
        "    return IPython.display.Audio(\"speech_converted.wav\")\n",
        "\n",
        "def write_to_file(content, file_name):\n",
        "    name = file_name.split('.pdf')[-1]\n",
        "    document = Document()\n",
        "    document.add_paragraph(content)\n",
        "    document.save(f'{name}.docx')\n",
        "\n",
        "def delete_unused_tools(agent):\n",
        "    del_list = []\n",
        "\n",
        "    for name, tool in agent.toolbox.items():\n",
        "        if type(tool) is PreTool:\n",
        "            del_list.append(name)\n",
        "\n",
        "    # pop the tools identified\n",
        "    for name in del_list:\n",
        "        del agent.toolbox[name]\n",
        "\n",
        "def view_available_tools(agent):\n",
        "    for i, (name, tool) in enumerate(agent.toolbox.items()):\n",
        "        if type(tool) is PreTool:\n",
        "            print(f\"{i+1}: {name} (PreTool)\")\n",
        "        else:\n",
        "            print(f\"{i+1}: {name} (Tool)\")\n"
      ]
    },
    {
      "attachments": {},
      "cell_type": "markdown",
      "metadata": {},
      "source": [
        "## Set up Agent and custom tools\n"
      ]
    },
    {
      "cell_type": "code",
      "execution_count": null,
      "metadata": {},
      "outputs": [],
      "source": [
        "# from huggingface_hub import login\n",
        "\n",
        "from transformers import HfAgent\n",
        "import downloader as downloader\n",
        "import readPDF as fileReader\n",
        "import bertSummarizer_tool as summarizer\n",
        "import question_generator as quizzer\n",
        "import translator_tool as translator\n",
        "import audio_generator as speaker\n",
        "\n",
        "tools = [\n",
        "    downloader.download_file_tool,\n",
        "    fileReader.read_file_tool,\n",
        "    summarizer.file_summarization_tool,\n",
        "    translator.translate_text_tool,\n",
        "    speaker.text_to_speech_tool,\n",
        "    quizzer.question_answer_generator_tool\n",
        "]\n",
        "agent = HfAgent(\n",
        "    \"https://api-inference.huggingface.co/models/bigcode/starcoder\",\n",
        "    additional_tools=tools,\n",
        ")\n",
        "\n",
        "delete_unused_tools(agent)\n",
        "view_available_tools(agent)"
      ]
    },
    {
      "attachments": {},
      "cell_type": "markdown",
      "metadata": {},
      "source": [
        "## Sub Services\n",
        "\n",
        "### Downloader, Uploader Service"
      ]
    },
    {
      "attachments": {},
      "cell_type": "markdown",
      "metadata": {},
      "source": [
        "To begin, you can provide a valid URL for your PDF resource.\n",
        "\n",
        "If you choose to enter a URL, our advanced Hugging Face Agent will seamlessly download the file for you. This process utilizes a specialized tool known as the `download_file_tool` working silently behind the scenes to retrieve the document.\n",
        "\n",
        "Currently, our platform exclusively supports PDF files at this stage.\n",
        "As an alternative, you have the option to upload your PDF file. Our agent will utilize a specialized tool called `read_file_tool` to process and extract the content from the document. The extracted information will be saved for further use within the platform."
      ]
    },
    {
      "cell_type": "code",
      "execution_count": 3,
      "metadata": {},
      "outputs": [],
      "source": [
        "url = input(\"Enter a valid URL:\")\n"
      ]
    },
    {
      "cell_type": "code",
      "execution_count": null,
      "metadata": {},
      "outputs": [],
      "source": [
        "print(\"----url is:\", url)"
      ]
    },
    {
      "attachments": {},
      "cell_type": "markdown",
      "metadata": {},
      "source": [
        "Asking agent to download the PDF file from the URL:"
      ]
    },
    {
      "cell_type": "code",
      "execution_count": null,
      "metadata": {},
      "outputs": [],
      "source": [
        "def download(url):\n",
        "    return agent.run(f\"Download file from the web {url}\", url=url)\n",
        "\n",
        "downloaded_file = download(url)"
      ]
    },
    {
      "attachments": {},
      "cell_type": "markdown",
      "metadata": {},
      "source": [
        "### Summarization Service\n",
        "\n",
        "let the fun begin! Get ready to dive into the exciting features of our app. How about downloading a summarization of your uploaded document or web content? Let's embark on this thrilling journey together!\"\n",
        "\n",
        "By clicking the `summarize` button below, the Hugging Face agent will generate a summary of your document. Please note that the summarization model used by the agent is the default tool, so the results may not be perfect. If your document is excessively large, there is a chance it may encounter difficulties or exhibit unexpected behavior while processing.\n",
        "\n",
        "We haven't forgotten about that! You might be eager to download the summary, so go ahead and click the button to access it."
      ]
    },
    {
      "cell_type": "code",
      "execution_count": 7,
      "metadata": {},
      "outputs": [
        {
          "name": "stdout",
          "output_type": "stream",
          "text": [
            "==Explanation from the agent==\n",
            "I will use the following  tool: `read_file_tool` to read the content of the pdf document.\n",
            "\n",
            "\n",
            "==Code generated by the agent==\n",
            "file_content = read_file_tool(file_name=\"1598021008775-C03_L03_Kinesis_Streams.pdf\")\n",
            "\n",
            "\n",
            "==Result==\n",
            "--- 1598021008775-C03_L03_Kinesis_Streams.pdf\n"
          ]
        }
      ],
      "source": [
        "def read_content(file_name):\n",
        "    return agent.run(f\"Read content of pdf document with name {file_name}\")\n",
        "\n",
        "# get the content of PDF, here you are even converting the PDf content to a docx format, without including the images\n",
        "content = read_content(downloaded_file)\n",
        "write_to_file(content,\"original\")"
      ]
    },
    {
      "cell_type": "code",
      "execution_count": 8,
      "metadata": {},
      "outputs": [
        {
          "name": "stdout",
          "output_type": "stream",
          "text": [
            "==Explanation from the agent==\n",
            "I will use the following  tools: `file_summarization_tool` to summarize the content of the document, then `text_reader` to read it out loud.\n",
            "\n",
            "\n",
            "==Code generated by the agent==\n",
            "summarized_text = file_summarization_tool(file_content=document)\n",
            "print(f\"Summary: {summarized_text}\")\n",
            "audio_summary = text_reader(summarized_text)\n",
            "\n",
            "\n",
            "==Result==\n"
          ]
        },
        {
          "name": "stderr",
          "output_type": "stream",
          "text": [
            "Your max_length is set to 300, but your input_length is only 3. Since this is a summarization task, where outputs shorter than the input are typically wanted, you might consider decreasing max_length manually, e.g. summarizer('...', max_length=1)\n",
            "Your max_length is set to 300, but your input_length is only 77. Since this is a summarization task, where outputs shorter than the input are typically wanted, you might consider decreasing max_length manually, e.g. summarizer('...', max_length=38)\n",
            "Your max_length is set to 300, but your input_length is only 122. Since this is a summarization task, where outputs shorter than the input are typically wanted, you might consider decreasing max_length manually, e.g. summarizer('...', max_length=61)\n",
            "Your max_length is set to 300, but your input_length is only 169. Since this is a summarization task, where outputs shorter than the input are typically wanted, you might consider decreasing max_length manually, e.g. summarizer('...', max_length=84)\n",
            "Your max_length is set to 300, but your input_length is only 121. Since this is a summarization task, where outputs shorter than the input are typically wanted, you might consider decreasing max_length manually, e.g. summarizer('...', max_length=60)\n"
          ]
        },
        {
          "name": "stdout",
          "output_type": "stream",
          "text": [
            "Summary: CNN.com will feature iReporter photos in a weekly Travel Snapshots gallery. Please submit your best shots of New York for next week. Visit CNN.com/Travel next Wednesday for a new gallery of snapshots. Each shard consists of a sequence of data records. Train Id = Partition KeyTrain Car = Sequence numberPassengers = Data. Kinesis Data StreamsBrock Tubreinstructor. A data record is the unit of data captured. These can be ingested at 1000 records per second. Default limit of 500 shards, but you can request increase to unlimited shards. retention period for the data records are 24 hours to 7 days. Kinesis Client Library (KCL)Integrated directly with KPL for consumer applications to consume and process data. Kinesis API (AWS SDK)Used for low level API operations to send records to a Kinesi Data Stream. Kinesis Producer Library (KPL) provides a layer of abstraction speciﬁcally for ingesting data. Additional processing delay can occur for higher packing efﬃciencies and better performance. Java wrapperKinesi API. Low-level API calls (PutRecords and GetRecords) Kinesis Data Streams is a cloud-based data management tool. It allows you to process and evaluate logs in real time. It can also provide real-time analytics on click stream data.\n",
            "Evaluation of the code stopped at line 2 before the end because of the following error:\n",
            "It is not permitted to evaluate other functions than the provided tools (tried to execute text_reader).\n",
            "------ CNN.com will feature iReporter photos in a weekly Travel Snapshots gallery. Please submit your best shots of New York for next week. Visit CNN.com/Travel next Wednesday for a new gallery of snapshots. Each shard consists of a sequence of data records. Train Id = Partition KeyTrain Car = Sequence numberPassengers = Data. Kinesis Data StreamsBrock Tubreinstructor. A data record is the unit of data captured. These can be ingested at 1000 records per second. Default limit of 500 shards, but you can request increase to unlimited shards. retention period for the data records are 24 hours to 7 days. Kinesis Client Library (KCL)Integrated directly with KPL for consumer applications to consume and process data. Kinesis API (AWS SDK)Used for low level API operations to send records to a Kinesi Data Stream. Kinesis Producer Library (KPL) provides a layer of abstraction speciﬁcally for ingesting data. Additional processing delay can occur for higher packing efﬃciencies and better performance. Java wrapperKinesi API. Low-level API calls (PutRecords and GetRecords) Kinesis Data Streams is a cloud-based data management tool. It allows you to process and evaluate logs in real time. It can also provide real-time analytics on click stream data.\n"
          ]
        }
      ],
      "source": [
        "def summarize(document):\n",
        "    return agent.run(f\"Summarize content of the documents {document}.\", document = document )\n",
        "# Summaries the content of PDF\n",
        "\n",
        "summary = summarize(content)\n",
        "write_to_file(summary, \"summary\")\n",
        "print(\"------\",summary)"
      ]
    },
    {
      "attachments": {},
      "cell_type": "markdown",
      "metadata": {},
      "source": [
        "\n",
        "### Translation Service\n",
        "\n",
        "Hmmm, perhaps English is your second language, just like mine! But don't worry, I've got your back 😉. With this tool, you can select between `Italian`, `French`, and `Spanish` languages. Not only that, but you can also have the summary translated into your preferred language for better understanding."
      ]
    },
    {
      "cell_type": "code",
      "execution_count": 9,
      "metadata": {},
      "outputs": [
        {
          "data": {
            "application/vnd.jupyter.widget-view+json": {
              "model_id": "f8dbe4e0100a41cbb8fd8bed91cbccd4",
              "version_major": 2,
              "version_minor": 0
            },
            "text/plain": [
              "Dropdown(options=('Italian', 'Spanish', 'French'), value='Italian')"
            ]
          },
          "metadata": {},
          "output_type": "display_data"
        }
      ],
      "source": [
        "from ipywidgets import widgets\n",
        "\n",
        "options = ['Italian','Spanish','French']\n",
        "dropdown = widgets.Dropdown(options=options) \n",
        "selected_language=dropdown.value\n",
        "def on_change(change):\n",
        "    if change['type'] == 'change' and change['name'] == 'value':\n",
        "        x = change['new']\n",
        "    \n",
        "dropdown.observe(on_change)\n",
        "display(dropdown)"
      ]
    },
    {
      "cell_type": "code",
      "execution_count": 1,
      "metadata": {},
      "outputs": [],
      "source": [
        "\n",
        "# source_lang = \"en\"\n",
        "# target_lang = \"fr\"\n",
        "\n",
        "def translate(txt, target_lang):\n",
        "    return agent.run(f\"Translate a text content as {txt} to the {target_lang}\", txt=txt , target_lang=target_lang)\n",
        "\n",
        "def translate_to_target_language(content, selected_language):\n",
        "    if(selected_language == \"French\"):\n",
        "        return translate(content, \"fr\" )\n",
        "    elif(selected_language == \"Spanish\"):\n",
        "        return translate(content, \"es\" )\n",
        "    elif(selected_language == \"Italian\"):\n",
        "        return translate(content, \"it\")\n"
      ]
    },
    {
      "cell_type": "code",
      "execution_count": null,
      "metadata": {},
      "outputs": [],
      "source": [
        "translation = translate_to_target_language(summary,selected_language)\n",
        "write_to_file(translation, f\"translation-summary-{selected_language}\")"
      ]
    },
    {
      "cell_type": "code",
      "execution_count": 18,
      "metadata": {},
      "outputs": [
        {
          "name": "stdout",
          "output_type": "stream",
          "text": [
            "==Explanation from the agent==\n",
            "I will use the following  tool: `translate_text_tool` to translate the text file content to target_language.\n",
            "\n",
            "\n",
            "==Code generated by the agent==\n",
            "translated_text = translate_text_tool(file_content, target_language)\n",
            "\n",
            "\n",
            "==Result==\n"
          ]
        }
      ],
      "source": [
        "translation = translate_to_target_language(content,selected_language)\n",
        "write_to_file(translation, f\"translation-original-{selected_language}\")"
      ]
    },
    {
      "attachments": {},
      "cell_type": "markdown",
      "metadata": {},
      "source": [
        "### Text-To-Speech Service\n",
        "\n",
        "In addition to all we mentioned so far, if you are keen to listen to the summary or the original uploaded content, in this platform you will be able to generate audio from the file."
      ]
    },
    {
      "cell_type": "code",
      "execution_count": null,
      "metadata": {},
      "outputs": [],
      "source": [
        "def generate_audio(file_name,file_content, target_language):\n",
        "    return agent.run(f\"Generate audio for file named {file_name} in mp3 format.\", file_name=file_name,content=file_content, language=target_language)\n",
        "\n",
        "#You can generate audio for the original file\n",
        "print(selected_language)\n",
        "file_name = downloaded_file.split(\".pdf\")[0]\n",
        "print(file_name)\n",
        "def audio_to_target_language(downloaded_file,content, language):\n",
        "    if(language == \"French\"):\n",
        "        return generate_audio(downloaded_file,content,\"fr\") \n",
        "    elif(language == \"Spanish\"):\n",
        "        return generate_audio(downloaded_file,content,\"es\") \n",
        "    elif(language == \"Italian\"):\n",
        "        return generate_audio(downloaded_file,content,\"it\")\n",
        "    else:\n",
        "        return generate_audio(downloaded_file, content, \"en\")\n",
        "\n",
        "audio =audio_to_target_language(file_name, content, selected_language)\n",
        "play_audio(audio)"
      ]
    },
    {
      "attachments": {},
      "cell_type": "markdown",
      "metadata": {},
      "source": [
        "### Quiz Generator Service\n",
        "\n",
        "Have you studied the summary carefully? Great! That means you're ready, right? Now, let's ask our Hugging Face agent to generate some engaging multiple-choice questions for you! Get ready to put your knowledge to the test!\n",
        "\n",
        "You have the freedom to choose the language in which you want to be examined! Simply select your desired language option. Additionally, you can specify the number of questions you would like in your requested exam. Tailor the examination experience according to your preferences!\n",
        "Once the agent has gathered this information, it will utilize another specialized tool called `quiz_generator_tool` to generate the quiz for you. This tool is specifically designed to create dynamic and engaging quizzes based on your selected preferences. Sit back and let the quiz generation process unfold!"
      ]
    },
    {
      "cell_type": "code",
      "execution_count": null,
      "metadata": {},
      "outputs": [],
      "source": [
        "\n",
        "def generate_quiz(document,number_of_questions):\n",
        "    return agent.run(f\"Generating question and answers for a long document {document} and {number_of_questions}\")\n",
        "\n",
        "quiz =generate_quiz(summary, 10)\n",
        "print(quiz)"
      ]
    }
  ],
  "metadata": {
    "accelerator": "GPU",
    "colab": {
      "provenance": []
    },
    "gpuClass": "standard",
    "kernelspec": {
      "display_name": "Python 3",
      "name": "python3"
    },
    "language_info": {
      "codemirror_mode": {
        "name": "ipython",
        "version": 3
      },
      "file_extension": ".py",
      "mimetype": "text/x-python",
      "name": "python",
      "nbconvert_exporter": "python",
      "pygments_lexer": "ipython3",
      "version": "3.11.3"
    },
    "widgets": {
      "application/vnd.jupyter.widget-state+json": {
        "0565cfe9114d4657a8cb22814a7dad9c": {
          "model_module": "@jupyter-widgets/controls",
          "model_module_version": "1.5.0",
          "model_name": "LabelModel",
          "state": {
            "_dom_classes": [],
            "_model_module": "@jupyter-widgets/controls",
            "_model_module_version": "1.5.0",
            "_model_name": "LabelModel",
            "_view_count": null,
            "_view_module": "@jupyter-widgets/controls",
            "_view_module_version": "1.5.0",
            "_view_name": "LabelView",
            "description": "",
            "description_tooltip": null,
            "layout": "IPY_MODEL_a3c151ab9a8f48b8845f424f69cc3d0e",
            "placeholder": "​",
            "style": "IPY_MODEL_86520775da9f456392033846562396fd",
            "value": "Your token has been saved to /root/.cache/huggingface/token"
          }
        },
        "1104849b83e446ea81c53c49eb9be838": {
          "model_module": "@jupyter-widgets/controls",
          "model_module_version": "1.5.0",
          "model_name": "HTMLModel",
          "state": {
            "_dom_classes": [],
            "_model_module": "@jupyter-widgets/controls",
            "_model_module_version": "1.5.0",
            "_model_name": "HTMLModel",
            "_view_count": null,
            "_view_module": "@jupyter-widgets/controls",
            "_view_module_version": "1.5.0",
            "_view_name": "HTMLView",
            "description": "",
            "description_tooltip": null,
            "layout": "IPY_MODEL_a2882702ae784e5dad2472b42257f5c3",
            "placeholder": "​",
            "style": "IPY_MODEL_5b424a4b72284db9a8473bce08b484f0",
            "value": "<center> <img\nsrc=https://huggingface.co/front/assets/huggingface_logo-noborder.svg\nalt='Hugging Face'> <br> Copy a token from <a\nhref=\"https://huggingface.co/settings/tokens\" target=\"_blank\">your Hugging Face\ntokens page</a> and paste it below. <br> Immediately click login after copying\nyour token or it might be stored in plain text in this notebook file. </center>"
          }
        },
        "1370f55933534c23967e1712bd4e1306": {
          "model_module": "@jupyter-widgets/controls",
          "model_module_version": "1.5.0",
          "model_name": "HTMLModel",
          "state": {
            "_dom_classes": [],
            "_model_module": "@jupyter-widgets/controls",
            "_model_module_version": "1.5.0",
            "_model_name": "HTMLModel",
            "_view_count": null,
            "_view_module": "@jupyter-widgets/controls",
            "_view_module_version": "1.5.0",
            "_view_name": "HTMLView",
            "description": "",
            "description_tooltip": null,
            "layout": "IPY_MODEL_8034fe92ac7e40e1bd8c63205adc649d",
            "placeholder": "​",
            "style": "IPY_MODEL_32d2fc82d4a7477c980e04171e237157",
            "value": "\n<b>Pro Tip:</b> If you don't already have one, you can create a dedicated\n'notebooks' token with 'write' access, that you can then easily reuse for all\nnotebooks. </center>"
          }
        },
        "13b79df27ea8404e89fc92cca6632057": {
          "model_module": "@jupyter-widgets/controls",
          "model_module_version": "1.5.0",
          "model_name": "LabelModel",
          "state": {
            "_dom_classes": [],
            "_model_module": "@jupyter-widgets/controls",
            "_model_module_version": "1.5.0",
            "_model_name": "LabelModel",
            "_view_count": null,
            "_view_module": "@jupyter-widgets/controls",
            "_view_module_version": "1.5.0",
            "_view_name": "LabelView",
            "description": "",
            "description_tooltip": null,
            "layout": "IPY_MODEL_ae302e42178a4a7e9536bfbc00111c6f",
            "placeholder": "​",
            "style": "IPY_MODEL_420b3254992542d7a10264900a9c91ba",
            "value": "Login successful"
          }
        },
        "189748f901fb419bbad65281f0f61318": {
          "model_module": "@jupyter-widgets/controls",
          "model_module_version": "1.5.0",
          "model_name": "ButtonModel",
          "state": {
            "_dom_classes": [],
            "_model_module": "@jupyter-widgets/controls",
            "_model_module_version": "1.5.0",
            "_model_name": "ButtonModel",
            "_view_count": null,
            "_view_module": "@jupyter-widgets/controls",
            "_view_module_version": "1.5.0",
            "_view_name": "ButtonView",
            "button_style": "",
            "description": "Login",
            "disabled": false,
            "icon": "",
            "layout": "IPY_MODEL_5da4421d8bda4187aea8f5bf8cde595f",
            "style": "IPY_MODEL_92325432067049a48bcf64fb2901bc54",
            "tooltip": ""
          }
        },
        "18f4e458858e4f7fabf45b84a14eb071": {
          "model_module": "@jupyter-widgets/base",
          "model_module_version": "1.2.0",
          "model_name": "LayoutModel",
          "state": {
            "_model_module": "@jupyter-widgets/base",
            "_model_module_version": "1.2.0",
            "_model_name": "LayoutModel",
            "_view_count": null,
            "_view_module": "@jupyter-widgets/base",
            "_view_module_version": "1.2.0",
            "_view_name": "LayoutView",
            "align_content": null,
            "align_items": null,
            "align_self": null,
            "border": null,
            "bottom": null,
            "display": null,
            "flex": null,
            "flex_flow": null,
            "grid_area": null,
            "grid_auto_columns": null,
            "grid_auto_flow": null,
            "grid_auto_rows": null,
            "grid_column": null,
            "grid_gap": null,
            "grid_row": null,
            "grid_template_areas": null,
            "grid_template_columns": null,
            "grid_template_rows": null,
            "height": null,
            "justify_content": null,
            "justify_items": null,
            "left": null,
            "margin": null,
            "max_height": null,
            "max_width": null,
            "min_height": null,
            "min_width": null,
            "object_fit": null,
            "object_position": null,
            "order": null,
            "overflow": null,
            "overflow_x": null,
            "overflow_y": null,
            "padding": null,
            "right": null,
            "top": null,
            "visibility": null,
            "width": null
          }
        },
        "1f0219369c6a42dcb9b220dfeb261f71": {
          "model_module": "@jupyter-widgets/controls",
          "model_module_version": "1.5.0",
          "model_name": "PasswordModel",
          "state": {
            "_dom_classes": [],
            "_model_module": "@jupyter-widgets/controls",
            "_model_module_version": "1.5.0",
            "_model_name": "PasswordModel",
            "_view_count": null,
            "_view_module": "@jupyter-widgets/controls",
            "_view_module_version": "1.5.0",
            "_view_name": "PasswordView",
            "continuous_update": true,
            "description": "Token:",
            "description_tooltip": null,
            "disabled": false,
            "layout": "IPY_MODEL_57bfb349b5964696bc570e258485b2e5",
            "placeholder": "​",
            "style": "IPY_MODEL_de25448c62624c9e94cb491454cef4c7",
            "value": ""
          }
        },
        "32d2fc82d4a7477c980e04171e237157": {
          "model_module": "@jupyter-widgets/controls",
          "model_module_version": "1.5.0",
          "model_name": "DescriptionStyleModel",
          "state": {
            "_model_module": "@jupyter-widgets/controls",
            "_model_module_version": "1.5.0",
            "_model_name": "DescriptionStyleModel",
            "_view_count": null,
            "_view_module": "@jupyter-widgets/base",
            "_view_module_version": "1.2.0",
            "_view_name": "StyleView",
            "description_width": ""
          }
        },
        "420b3254992542d7a10264900a9c91ba": {
          "model_module": "@jupyter-widgets/controls",
          "model_module_version": "1.5.0",
          "model_name": "DescriptionStyleModel",
          "state": {
            "_model_module": "@jupyter-widgets/controls",
            "_model_module_version": "1.5.0",
            "_model_name": "DescriptionStyleModel",
            "_view_count": null,
            "_view_module": "@jupyter-widgets/base",
            "_view_module_version": "1.2.0",
            "_view_name": "StyleView",
            "description_width": ""
          }
        },
        "4bca149090d24a688979c68474620a2c": {
          "model_module": "@jupyter-widgets/controls",
          "model_module_version": "1.5.0",
          "model_name": "VBoxModel",
          "state": {
            "_dom_classes": [],
            "_model_module": "@jupyter-widgets/controls",
            "_model_module_version": "1.5.0",
            "_model_name": "VBoxModel",
            "_view_count": null,
            "_view_module": "@jupyter-widgets/controls",
            "_view_module_version": "1.5.0",
            "_view_name": "VBoxView",
            "box_style": "",
            "children": [
              "IPY_MODEL_c399d2486883469aa31ae24758f87897",
              "IPY_MODEL_0565cfe9114d4657a8cb22814a7dad9c",
              "IPY_MODEL_13b79df27ea8404e89fc92cca6632057"
            ],
            "layout": "IPY_MODEL_cc434e89332b4dd2a7743ce1d7067bab"
          }
        },
        "57bfb349b5964696bc570e258485b2e5": {
          "model_module": "@jupyter-widgets/base",
          "model_module_version": "1.2.0",
          "model_name": "LayoutModel",
          "state": {
            "_model_module": "@jupyter-widgets/base",
            "_model_module_version": "1.2.0",
            "_model_name": "LayoutModel",
            "_view_count": null,
            "_view_module": "@jupyter-widgets/base",
            "_view_module_version": "1.2.0",
            "_view_name": "LayoutView",
            "align_content": null,
            "align_items": null,
            "align_self": null,
            "border": null,
            "bottom": null,
            "display": null,
            "flex": null,
            "flex_flow": null,
            "grid_area": null,
            "grid_auto_columns": null,
            "grid_auto_flow": null,
            "grid_auto_rows": null,
            "grid_column": null,
            "grid_gap": null,
            "grid_row": null,
            "grid_template_areas": null,
            "grid_template_columns": null,
            "grid_template_rows": null,
            "height": null,
            "justify_content": null,
            "justify_items": null,
            "left": null,
            "margin": null,
            "max_height": null,
            "max_width": null,
            "min_height": null,
            "min_width": null,
            "object_fit": null,
            "object_position": null,
            "order": null,
            "overflow": null,
            "overflow_x": null,
            "overflow_y": null,
            "padding": null,
            "right": null,
            "top": null,
            "visibility": null,
            "width": null
          }
        },
        "5b424a4b72284db9a8473bce08b484f0": {
          "model_module": "@jupyter-widgets/controls",
          "model_module_version": "1.5.0",
          "model_name": "DescriptionStyleModel",
          "state": {
            "_model_module": "@jupyter-widgets/controls",
            "_model_module_version": "1.5.0",
            "_model_name": "DescriptionStyleModel",
            "_view_count": null,
            "_view_module": "@jupyter-widgets/base",
            "_view_module_version": "1.2.0",
            "_view_name": "StyleView",
            "description_width": ""
          }
        },
        "5da4421d8bda4187aea8f5bf8cde595f": {
          "model_module": "@jupyter-widgets/base",
          "model_module_version": "1.2.0",
          "model_name": "LayoutModel",
          "state": {
            "_model_module": "@jupyter-widgets/base",
            "_model_module_version": "1.2.0",
            "_model_name": "LayoutModel",
            "_view_count": null,
            "_view_module": "@jupyter-widgets/base",
            "_view_module_version": "1.2.0",
            "_view_name": "LayoutView",
            "align_content": null,
            "align_items": null,
            "align_self": null,
            "border": null,
            "bottom": null,
            "display": null,
            "flex": null,
            "flex_flow": null,
            "grid_area": null,
            "grid_auto_columns": null,
            "grid_auto_flow": null,
            "grid_auto_rows": null,
            "grid_column": null,
            "grid_gap": null,
            "grid_row": null,
            "grid_template_areas": null,
            "grid_template_columns": null,
            "grid_template_rows": null,
            "height": null,
            "justify_content": null,
            "justify_items": null,
            "left": null,
            "margin": null,
            "max_height": null,
            "max_width": null,
            "min_height": null,
            "min_width": null,
            "object_fit": null,
            "object_position": null,
            "order": null,
            "overflow": null,
            "overflow_x": null,
            "overflow_y": null,
            "padding": null,
            "right": null,
            "top": null,
            "visibility": null,
            "width": null
          }
        },
        "75aa0f1913124133ab192adde4f6209c": {
          "model_module": "@jupyter-widgets/controls",
          "model_module_version": "1.5.0",
          "model_name": "DescriptionStyleModel",
          "state": {
            "_model_module": "@jupyter-widgets/controls",
            "_model_module_version": "1.5.0",
            "_model_name": "DescriptionStyleModel",
            "_view_count": null,
            "_view_module": "@jupyter-widgets/base",
            "_view_module_version": "1.2.0",
            "_view_name": "StyleView",
            "description_width": ""
          }
        },
        "8034fe92ac7e40e1bd8c63205adc649d": {
          "model_module": "@jupyter-widgets/base",
          "model_module_version": "1.2.0",
          "model_name": "LayoutModel",
          "state": {
            "_model_module": "@jupyter-widgets/base",
            "_model_module_version": "1.2.0",
            "_model_name": "LayoutModel",
            "_view_count": null,
            "_view_module": "@jupyter-widgets/base",
            "_view_module_version": "1.2.0",
            "_view_name": "LayoutView",
            "align_content": null,
            "align_items": null,
            "align_self": null,
            "border": null,
            "bottom": null,
            "display": null,
            "flex": null,
            "flex_flow": null,
            "grid_area": null,
            "grid_auto_columns": null,
            "grid_auto_flow": null,
            "grid_auto_rows": null,
            "grid_column": null,
            "grid_gap": null,
            "grid_row": null,
            "grid_template_areas": null,
            "grid_template_columns": null,
            "grid_template_rows": null,
            "height": null,
            "justify_content": null,
            "justify_items": null,
            "left": null,
            "margin": null,
            "max_height": null,
            "max_width": null,
            "min_height": null,
            "min_width": null,
            "object_fit": null,
            "object_position": null,
            "order": null,
            "overflow": null,
            "overflow_x": null,
            "overflow_y": null,
            "padding": null,
            "right": null,
            "top": null,
            "visibility": null,
            "width": null
          }
        },
        "86520775da9f456392033846562396fd": {
          "model_module": "@jupyter-widgets/controls",
          "model_module_version": "1.5.0",
          "model_name": "DescriptionStyleModel",
          "state": {
            "_model_module": "@jupyter-widgets/controls",
            "_model_module_version": "1.5.0",
            "_model_name": "DescriptionStyleModel",
            "_view_count": null,
            "_view_module": "@jupyter-widgets/base",
            "_view_module_version": "1.2.0",
            "_view_name": "StyleView",
            "description_width": ""
          }
        },
        "92325432067049a48bcf64fb2901bc54": {
          "model_module": "@jupyter-widgets/controls",
          "model_module_version": "1.5.0",
          "model_name": "ButtonStyleModel",
          "state": {
            "_model_module": "@jupyter-widgets/controls",
            "_model_module_version": "1.5.0",
            "_model_name": "ButtonStyleModel",
            "_view_count": null,
            "_view_module": "@jupyter-widgets/base",
            "_view_module_version": "1.2.0",
            "_view_name": "StyleView",
            "button_color": null,
            "font_weight": ""
          }
        },
        "944be21cac0b426191913ef0a6275034": {
          "model_module": "@jupyter-widgets/base",
          "model_module_version": "1.2.0",
          "model_name": "LayoutModel",
          "state": {
            "_model_module": "@jupyter-widgets/base",
            "_model_module_version": "1.2.0",
            "_model_name": "LayoutModel",
            "_view_count": null,
            "_view_module": "@jupyter-widgets/base",
            "_view_module_version": "1.2.0",
            "_view_name": "LayoutView",
            "align_content": null,
            "align_items": null,
            "align_self": null,
            "border": null,
            "bottom": null,
            "display": null,
            "flex": null,
            "flex_flow": null,
            "grid_area": null,
            "grid_auto_columns": null,
            "grid_auto_flow": null,
            "grid_auto_rows": null,
            "grid_column": null,
            "grid_gap": null,
            "grid_row": null,
            "grid_template_areas": null,
            "grid_template_columns": null,
            "grid_template_rows": null,
            "height": null,
            "justify_content": null,
            "justify_items": null,
            "left": null,
            "margin": null,
            "max_height": null,
            "max_width": null,
            "min_height": null,
            "min_width": null,
            "object_fit": null,
            "object_position": null,
            "order": null,
            "overflow": null,
            "overflow_x": null,
            "overflow_y": null,
            "padding": null,
            "right": null,
            "top": null,
            "visibility": null,
            "width": null
          }
        },
        "9d2a67747976401ca3bdbbde47083201": {
          "model_module": "@jupyter-widgets/controls",
          "model_module_version": "1.5.0",
          "model_name": "DescriptionStyleModel",
          "state": {
            "_model_module": "@jupyter-widgets/controls",
            "_model_module_version": "1.5.0",
            "_model_name": "DescriptionStyleModel",
            "_view_count": null,
            "_view_module": "@jupyter-widgets/base",
            "_view_module_version": "1.2.0",
            "_view_name": "StyleView",
            "description_width": ""
          }
        },
        "a2882702ae784e5dad2472b42257f5c3": {
          "model_module": "@jupyter-widgets/base",
          "model_module_version": "1.2.0",
          "model_name": "LayoutModel",
          "state": {
            "_model_module": "@jupyter-widgets/base",
            "_model_module_version": "1.2.0",
            "_model_name": "LayoutModel",
            "_view_count": null,
            "_view_module": "@jupyter-widgets/base",
            "_view_module_version": "1.2.0",
            "_view_name": "LayoutView",
            "align_content": null,
            "align_items": null,
            "align_self": null,
            "border": null,
            "bottom": null,
            "display": null,
            "flex": null,
            "flex_flow": null,
            "grid_area": null,
            "grid_auto_columns": null,
            "grid_auto_flow": null,
            "grid_auto_rows": null,
            "grid_column": null,
            "grid_gap": null,
            "grid_row": null,
            "grid_template_areas": null,
            "grid_template_columns": null,
            "grid_template_rows": null,
            "height": null,
            "justify_content": null,
            "justify_items": null,
            "left": null,
            "margin": null,
            "max_height": null,
            "max_width": null,
            "min_height": null,
            "min_width": null,
            "object_fit": null,
            "object_position": null,
            "order": null,
            "overflow": null,
            "overflow_x": null,
            "overflow_y": null,
            "padding": null,
            "right": null,
            "top": null,
            "visibility": null,
            "width": null
          }
        },
        "a3c151ab9a8f48b8845f424f69cc3d0e": {
          "model_module": "@jupyter-widgets/base",
          "model_module_version": "1.2.0",
          "model_name": "LayoutModel",
          "state": {
            "_model_module": "@jupyter-widgets/base",
            "_model_module_version": "1.2.0",
            "_model_name": "LayoutModel",
            "_view_count": null,
            "_view_module": "@jupyter-widgets/base",
            "_view_module_version": "1.2.0",
            "_view_name": "LayoutView",
            "align_content": null,
            "align_items": null,
            "align_self": null,
            "border": null,
            "bottom": null,
            "display": null,
            "flex": null,
            "flex_flow": null,
            "grid_area": null,
            "grid_auto_columns": null,
            "grid_auto_flow": null,
            "grid_auto_rows": null,
            "grid_column": null,
            "grid_gap": null,
            "grid_row": null,
            "grid_template_areas": null,
            "grid_template_columns": null,
            "grid_template_rows": null,
            "height": null,
            "justify_content": null,
            "justify_items": null,
            "left": null,
            "margin": null,
            "max_height": null,
            "max_width": null,
            "min_height": null,
            "min_width": null,
            "object_fit": null,
            "object_position": null,
            "order": null,
            "overflow": null,
            "overflow_x": null,
            "overflow_y": null,
            "padding": null,
            "right": null,
            "top": null,
            "visibility": null,
            "width": null
          }
        },
        "ae302e42178a4a7e9536bfbc00111c6f": {
          "model_module": "@jupyter-widgets/base",
          "model_module_version": "1.2.0",
          "model_name": "LayoutModel",
          "state": {
            "_model_module": "@jupyter-widgets/base",
            "_model_module_version": "1.2.0",
            "_model_name": "LayoutModel",
            "_view_count": null,
            "_view_module": "@jupyter-widgets/base",
            "_view_module_version": "1.2.0",
            "_view_name": "LayoutView",
            "align_content": null,
            "align_items": null,
            "align_self": null,
            "border": null,
            "bottom": null,
            "display": null,
            "flex": null,
            "flex_flow": null,
            "grid_area": null,
            "grid_auto_columns": null,
            "grid_auto_flow": null,
            "grid_auto_rows": null,
            "grid_column": null,
            "grid_gap": null,
            "grid_row": null,
            "grid_template_areas": null,
            "grid_template_columns": null,
            "grid_template_rows": null,
            "height": null,
            "justify_content": null,
            "justify_items": null,
            "left": null,
            "margin": null,
            "max_height": null,
            "max_width": null,
            "min_height": null,
            "min_width": null,
            "object_fit": null,
            "object_position": null,
            "order": null,
            "overflow": null,
            "overflow_x": null,
            "overflow_y": null,
            "padding": null,
            "right": null,
            "top": null,
            "visibility": null,
            "width": null
          }
        },
        "b503df5545384f61abe3b6a08d94925b": {
          "model_module": "@jupyter-widgets/controls",
          "model_module_version": "1.5.0",
          "model_name": "CheckboxModel",
          "state": {
            "_dom_classes": [],
            "_model_module": "@jupyter-widgets/controls",
            "_model_module_version": "1.5.0",
            "_model_name": "CheckboxModel",
            "_view_count": null,
            "_view_module": "@jupyter-widgets/controls",
            "_view_module_version": "1.5.0",
            "_view_name": "CheckboxView",
            "description": "Add token as git credential?",
            "description_tooltip": null,
            "disabled": false,
            "indent": true,
            "layout": "IPY_MODEL_dd9026d202d94767b06e04bf4879505f",
            "style": "IPY_MODEL_9d2a67747976401ca3bdbbde47083201",
            "value": false
          }
        },
        "c399d2486883469aa31ae24758f87897": {
          "model_module": "@jupyter-widgets/controls",
          "model_module_version": "1.5.0",
          "model_name": "LabelModel",
          "state": {
            "_dom_classes": [],
            "_model_module": "@jupyter-widgets/controls",
            "_model_module_version": "1.5.0",
            "_model_name": "LabelModel",
            "_view_count": null,
            "_view_module": "@jupyter-widgets/controls",
            "_view_module_version": "1.5.0",
            "_view_name": "LabelView",
            "description": "",
            "description_tooltip": null,
            "layout": "IPY_MODEL_18f4e458858e4f7fabf45b84a14eb071",
            "placeholder": "​",
            "style": "IPY_MODEL_d1dd7be4b4014cd9b8da8716341f3939",
            "value": "Token is valid (permission: read)."
          }
        },
        "cc434e89332b4dd2a7743ce1d7067bab": {
          "model_module": "@jupyter-widgets/base",
          "model_module_version": "1.2.0",
          "model_name": "LayoutModel",
          "state": {
            "_model_module": "@jupyter-widgets/base",
            "_model_module_version": "1.2.0",
            "_model_name": "LayoutModel",
            "_view_count": null,
            "_view_module": "@jupyter-widgets/base",
            "_view_module_version": "1.2.0",
            "_view_name": "LayoutView",
            "align_content": null,
            "align_items": "center",
            "align_self": null,
            "border": null,
            "bottom": null,
            "display": "flex",
            "flex": null,
            "flex_flow": "column",
            "grid_area": null,
            "grid_auto_columns": null,
            "grid_auto_flow": null,
            "grid_auto_rows": null,
            "grid_column": null,
            "grid_gap": null,
            "grid_row": null,
            "grid_template_areas": null,
            "grid_template_columns": null,
            "grid_template_rows": null,
            "height": null,
            "justify_content": null,
            "justify_items": null,
            "left": null,
            "margin": null,
            "max_height": null,
            "max_width": null,
            "min_height": null,
            "min_width": null,
            "object_fit": null,
            "object_position": null,
            "order": null,
            "overflow": null,
            "overflow_x": null,
            "overflow_y": null,
            "padding": null,
            "right": null,
            "top": null,
            "visibility": null,
            "width": "50%"
          }
        },
        "d1dd7be4b4014cd9b8da8716341f3939": {
          "model_module": "@jupyter-widgets/controls",
          "model_module_version": "1.5.0",
          "model_name": "DescriptionStyleModel",
          "state": {
            "_model_module": "@jupyter-widgets/controls",
            "_model_module_version": "1.5.0",
            "_model_name": "DescriptionStyleModel",
            "_view_count": null,
            "_view_module": "@jupyter-widgets/base",
            "_view_module_version": "1.2.0",
            "_view_name": "StyleView",
            "description_width": ""
          }
        },
        "dd9026d202d94767b06e04bf4879505f": {
          "model_module": "@jupyter-widgets/base",
          "model_module_version": "1.2.0",
          "model_name": "LayoutModel",
          "state": {
            "_model_module": "@jupyter-widgets/base",
            "_model_module_version": "1.2.0",
            "_model_name": "LayoutModel",
            "_view_count": null,
            "_view_module": "@jupyter-widgets/base",
            "_view_module_version": "1.2.0",
            "_view_name": "LayoutView",
            "align_content": null,
            "align_items": null,
            "align_self": null,
            "border": null,
            "bottom": null,
            "display": null,
            "flex": null,
            "flex_flow": null,
            "grid_area": null,
            "grid_auto_columns": null,
            "grid_auto_flow": null,
            "grid_auto_rows": null,
            "grid_column": null,
            "grid_gap": null,
            "grid_row": null,
            "grid_template_areas": null,
            "grid_template_columns": null,
            "grid_template_rows": null,
            "height": null,
            "justify_content": null,
            "justify_items": null,
            "left": null,
            "margin": null,
            "max_height": null,
            "max_width": null,
            "min_height": null,
            "min_width": null,
            "object_fit": null,
            "object_position": null,
            "order": null,
            "overflow": null,
            "overflow_x": null,
            "overflow_y": null,
            "padding": null,
            "right": null,
            "top": null,
            "visibility": null,
            "width": null
          }
        },
        "de25448c62624c9e94cb491454cef4c7": {
          "model_module": "@jupyter-widgets/controls",
          "model_module_version": "1.5.0",
          "model_name": "DescriptionStyleModel",
          "state": {
            "_model_module": "@jupyter-widgets/controls",
            "_model_module_version": "1.5.0",
            "_model_name": "DescriptionStyleModel",
            "_view_count": null,
            "_view_module": "@jupyter-widgets/base",
            "_view_module_version": "1.2.0",
            "_view_name": "StyleView",
            "description_width": ""
          }
        },
        "e2dd5559de5b4718a46e0f204cded820": {
          "model_module": "@jupyter-widgets/controls",
          "model_module_version": "1.5.0",
          "model_name": "LabelModel",
          "state": {
            "_dom_classes": [],
            "_model_module": "@jupyter-widgets/controls",
            "_model_module_version": "1.5.0",
            "_model_name": "LabelModel",
            "_view_count": null,
            "_view_module": "@jupyter-widgets/controls",
            "_view_module_version": "1.5.0",
            "_view_name": "LabelView",
            "description": "",
            "description_tooltip": null,
            "layout": "IPY_MODEL_944be21cac0b426191913ef0a6275034",
            "placeholder": "​",
            "style": "IPY_MODEL_75aa0f1913124133ab192adde4f6209c",
            "value": "Connecting..."
          }
        }
      }
    }
  },
  "nbformat": 4,
  "nbformat_minor": 0
}
